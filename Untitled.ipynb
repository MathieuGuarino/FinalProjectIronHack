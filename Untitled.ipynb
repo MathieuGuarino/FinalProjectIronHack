{
 "cells": [
  {
   "cell_type": "code",
   "execution_count": 4,
   "id": "abstract-clock",
   "metadata": {},
   "outputs": [
    {
     "data": {
      "text/plain": [
       "(2, 21)"
      ]
     },
     "execution_count": 4,
     "metadata": {},
     "output_type": "execute_result"
    }
   ],
   "source": [
    "def find_max_and_index(values):\n",
    "    if len(values) == 0:\n",
    "        return (-1,-1)\n",
    "    my_max = (0, values[0])\n",
    "    for count, value in enumerate(values):\n",
    "        if value > my_max[1]:\n",
    "            my_max = (count, value)\n",
    "    return my_max\n",
    "\n",
    "\n",
    "test = [10, 5, 21, 1, 17]\n",
    "find_max_and_index(test)"
   ]
  },
  {
   "cell_type": "code",
   "execution_count": 2,
   "id": "necessary-safety",
   "metadata": {},
   "outputs": [
    {
     "data": {
      "text/plain": [
       "5"
      ]
     },
     "execution_count": 2,
     "metadata": {},
     "output_type": "execute_result"
    }
   ],
   "source": [
    "len([10, 5, 21, 1, 17])"
   ]
  },
  {
   "cell_type": "code",
   "execution_count": null,
   "id": "floating-bunny",
   "metadata": {},
   "outputs": [],
   "source": []
  }
 ],
 "metadata": {
  "kernelspec": {
   "display_name": "Python 3",
   "language": "python",
   "name": "python3"
  },
  "language_info": {
   "codemirror_mode": {
    "name": "ipython",
    "version": 3
   },
   "file_extension": ".py",
   "mimetype": "text/x-python",
   "name": "python",
   "nbconvert_exporter": "python",
   "pygments_lexer": "ipython3",
   "version": "3.8.5"
  }
 },
 "nbformat": 4,
 "nbformat_minor": 5
}
