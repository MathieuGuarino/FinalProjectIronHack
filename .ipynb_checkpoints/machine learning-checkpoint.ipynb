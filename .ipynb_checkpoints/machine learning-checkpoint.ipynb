{
 "cells": [
  {
   "cell_type": "code",
   "execution_count": 153,
   "id": "brutal-picnic",
   "metadata": {},
   "outputs": [],
   "source": [
    "import pandas as pd\n",
    "import numpy as np\n",
    "import matplotlib.pyplot as plt\n",
    "import seaborn as sns\n",
    "from sklearn.model_selection import train_test_split\n",
    "from sklearn.svm import SVC\n",
    "from sklearn.pipeline import make_pipeline\n",
    "from sklearn.preprocessing import StandardScaler\n",
    "from sklearn.metrics import accuracy_score\n",
    "from sklearn.metrics import confusion_matrix\n",
    "from sklearn.metrics import plot_det_curve\n",
    "from sklearn.metrics import plot_roc_curve\n",
    "from sklearn.metrics import recall_score\n",
    "from sklearn.metrics import precision_score\n",
    "from sklearn.model_selection import GridSearchCV\n",
    "from sklearn.model_selection import cross_val_score\n",
    "from sklearn.tree import DecisionTreeClassifier\n",
    "from sklearn.metrics import confusion_matrix, classification_report\n",
    "from sklearn.ensemble import RandomForestClassifier\n",
    "from sklearn.decomposition import PCA\n",
    "from sklearn.neighbors import KNeighborsClassifier\n",
    "from sklearn.datasets import load_iris\n",
    "from sklearn.gaussian_process import GaussianProcessClassifier\n",
    "from sklearn.gaussian_process.kernels import RBF\n",
    "from sklearn.ensemble import AdaBoostClassifier\n",
    "from sklearn.naive_bayes import GaussianNB\n",
    "from sklearn.discriminant_analysis import QuadraticDiscriminantAnalysis\n",
    "from sklearn.svm import LinearSVC"
   ]
  },
  {
   "cell_type": "code",
   "execution_count": 2,
   "id": "stone-treasurer",
   "metadata": {},
   "outputs": [],
   "source": [
    "d = pd.read_csv('df_to_machine_learning.csv', index_col=False).drop(['uid','voteDate'], axis=1).dropna()"
   ]
  },
  {
   "cell_type": "code",
   "execution_count": 3,
   "id": "lasting-connecticut",
   "metadata": {},
   "outputs": [
    {
     "data": {
      "text/html": [
       "<div>\n",
       "<style scoped>\n",
       "    .dataframe tbody tr th:only-of-type {\n",
       "        vertical-align: middle;\n",
       "    }\n",
       "\n",
       "    .dataframe tbody tr th {\n",
       "        vertical-align: top;\n",
       "    }\n",
       "\n",
       "    .dataframe thead th {\n",
       "        text-align: right;\n",
       "    }\n",
       "</style>\n",
       "<table border=\"1\" class=\"dataframe\">\n",
       "  <thead>\n",
       "    <tr style=\"text-align: right;\">\n",
       "      <th></th>\n",
       "      <th>numVotes</th>\n",
       "      <th>stillExists</th>\n",
       "      <th>liked</th>\n",
       "      <th>disliked</th>\n",
       "      <th>liked_churned_people</th>\n",
       "      <th>vote</th>\n",
       "      <th>Happiness</th>\n",
       "      <th>Activity</th>\n",
       "      <th>likes</th>\n",
       "      <th>dislikes</th>\n",
       "      <th>txt_len</th>\n",
       "    </tr>\n",
       "  </thead>\n",
       "  <tbody>\n",
       "    <tr>\n",
       "      <th>0</th>\n",
       "      <td>4</td>\n",
       "      <td>True</td>\n",
       "      <td>6</td>\n",
       "      <td>0</td>\n",
       "      <td>0</td>\n",
       "      <td>2.500000</td>\n",
       "      <td>-0.000000</td>\n",
       "      <td>37</td>\n",
       "      <td>7.500000</td>\n",
       "      <td>1.000000</td>\n",
       "      <td>114.500000</td>\n",
       "    </tr>\n",
       "    <tr>\n",
       "      <th>1</th>\n",
       "      <td>72</td>\n",
       "      <td>True</td>\n",
       "      <td>60</td>\n",
       "      <td>12</td>\n",
       "      <td>1</td>\n",
       "      <td>2.250000</td>\n",
       "      <td>-0.000805</td>\n",
       "      <td>406</td>\n",
       "      <td>5.428571</td>\n",
       "      <td>4.785714</td>\n",
       "      <td>59.571429</td>\n",
       "    </tr>\n",
       "    <tr>\n",
       "      <th>2</th>\n",
       "      <td>14</td>\n",
       "      <td>False</td>\n",
       "      <td>1</td>\n",
       "      <td>0</td>\n",
       "      <td>0</td>\n",
       "      <td>3.142857</td>\n",
       "      <td>0.006202</td>\n",
       "      <td>66</td>\n",
       "      <td>6.000000</td>\n",
       "      <td>0.000000</td>\n",
       "      <td>92.000000</td>\n",
       "    </tr>\n",
       "    <tr>\n",
       "      <th>3</th>\n",
       "      <td>14</td>\n",
       "      <td>False</td>\n",
       "      <td>1</td>\n",
       "      <td>0</td>\n",
       "      <td>0</td>\n",
       "      <td>3.142857</td>\n",
       "      <td>0.006202</td>\n",
       "      <td>66</td>\n",
       "      <td>6.000000</td>\n",
       "      <td>0.000000</td>\n",
       "      <td>92.000000</td>\n",
       "    </tr>\n",
       "    <tr>\n",
       "      <th>4</th>\n",
       "      <td>22</td>\n",
       "      <td>True</td>\n",
       "      <td>6</td>\n",
       "      <td>5</td>\n",
       "      <td>0</td>\n",
       "      <td>3.454545</td>\n",
       "      <td>-0.001876</td>\n",
       "      <td>378</td>\n",
       "      <td>3.333333</td>\n",
       "      <td>0.888889</td>\n",
       "      <td>85.555556</td>\n",
       "    </tr>\n",
       "    <tr>\n",
       "      <th>...</th>\n",
       "      <td>...</td>\n",
       "      <td>...</td>\n",
       "      <td>...</td>\n",
       "      <td>...</td>\n",
       "      <td>...</td>\n",
       "      <td>...</td>\n",
       "      <td>...</td>\n",
       "      <td>...</td>\n",
       "      <td>...</td>\n",
       "      <td>...</td>\n",
       "      <td>...</td>\n",
       "    </tr>\n",
       "    <tr>\n",
       "      <th>2585</th>\n",
       "      <td>4</td>\n",
       "      <td>True</td>\n",
       "      <td>11</td>\n",
       "      <td>0</td>\n",
       "      <td>0</td>\n",
       "      <td>2.750000</td>\n",
       "      <td>-0.257143</td>\n",
       "      <td>4</td>\n",
       "      <td>1.000000</td>\n",
       "      <td>0.500000</td>\n",
       "      <td>56.500000</td>\n",
       "    </tr>\n",
       "    <tr>\n",
       "      <th>2586</th>\n",
       "      <td>3</td>\n",
       "      <td>True</td>\n",
       "      <td>8</td>\n",
       "      <td>4</td>\n",
       "      <td>0</td>\n",
       "      <td>3.666667</td>\n",
       "      <td>0.285714</td>\n",
       "      <td>3</td>\n",
       "      <td>10.333333</td>\n",
       "      <td>0.000000</td>\n",
       "      <td>115.333333</td>\n",
       "    </tr>\n",
       "    <tr>\n",
       "      <th>2587</th>\n",
       "      <td>5</td>\n",
       "      <td>True</td>\n",
       "      <td>28</td>\n",
       "      <td>8</td>\n",
       "      <td>0</td>\n",
       "      <td>2.600000</td>\n",
       "      <td>-0.600000</td>\n",
       "      <td>4</td>\n",
       "      <td>10.666667</td>\n",
       "      <td>5.666667</td>\n",
       "      <td>87.000000</td>\n",
       "    </tr>\n",
       "    <tr>\n",
       "      <th>2588</th>\n",
       "      <td>1</td>\n",
       "      <td>True</td>\n",
       "      <td>1</td>\n",
       "      <td>0</td>\n",
       "      <td>0</td>\n",
       "      <td>4.000000</td>\n",
       "      <td>0.000000</td>\n",
       "      <td>0</td>\n",
       "      <td>15.000000</td>\n",
       "      <td>0.000000</td>\n",
       "      <td>386.000000</td>\n",
       "    </tr>\n",
       "    <tr>\n",
       "      <th>2589</th>\n",
       "      <td>1</td>\n",
       "      <td>True</td>\n",
       "      <td>6</td>\n",
       "      <td>0</td>\n",
       "      <td>0</td>\n",
       "      <td>3.000000</td>\n",
       "      <td>0.000000</td>\n",
       "      <td>0</td>\n",
       "      <td>7.000000</td>\n",
       "      <td>2.000000</td>\n",
       "      <td>103.000000</td>\n",
       "    </tr>\n",
       "  </tbody>\n",
       "</table>\n",
       "<p>2590 rows × 11 columns</p>\n",
       "</div>"
      ],
      "text/plain": [
       "      numVotes  stillExists  liked  disliked  liked_churned_people      vote  \\\n",
       "0            4         True      6         0                     0  2.500000   \n",
       "1           72         True     60        12                     1  2.250000   \n",
       "2           14        False      1         0                     0  3.142857   \n",
       "3           14        False      1         0                     0  3.142857   \n",
       "4           22         True      6         5                     0  3.454545   \n",
       "...        ...          ...    ...       ...                   ...       ...   \n",
       "2585         4         True     11         0                     0  2.750000   \n",
       "2586         3         True      8         4                     0  3.666667   \n",
       "2587         5         True     28         8                     0  2.600000   \n",
       "2588         1         True      1         0                     0  4.000000   \n",
       "2589         1         True      6         0                     0  3.000000   \n",
       "\n",
       "      Happiness  Activity      likes  dislikes     txt_len  \n",
       "0     -0.000000        37   7.500000  1.000000  114.500000  \n",
       "1     -0.000805       406   5.428571  4.785714   59.571429  \n",
       "2      0.006202        66   6.000000  0.000000   92.000000  \n",
       "3      0.006202        66   6.000000  0.000000   92.000000  \n",
       "4     -0.001876       378   3.333333  0.888889   85.555556  \n",
       "...         ...       ...        ...       ...         ...  \n",
       "2585  -0.257143         4   1.000000  0.500000   56.500000  \n",
       "2586   0.285714         3  10.333333  0.000000  115.333333  \n",
       "2587  -0.600000         4  10.666667  5.666667   87.000000  \n",
       "2588   0.000000         0  15.000000  0.000000  386.000000  \n",
       "2589   0.000000         0   7.000000  2.000000  103.000000  \n",
       "\n",
       "[2590 rows x 11 columns]"
      ]
     },
     "execution_count": 3,
     "metadata": {},
     "output_type": "execute_result"
    }
   ],
   "source": [
    "d = d.dropna()\n",
    "d"
   ]
  },
  {
   "cell_type": "code",
   "execution_count": 4,
   "id": "absent-cambodia",
   "metadata": {},
   "outputs": [
    {
     "name": "stdout",
     "output_type": "stream",
     "text": [
      "<class 'pandas.core.frame.DataFrame'>\n",
      "Int64Index: 2590 entries, 0 to 2589\n",
      "Data columns (total 11 columns):\n",
      " #   Column                Non-Null Count  Dtype  \n",
      "---  ------                --------------  -----  \n",
      " 0   numVotes              2590 non-null   int64  \n",
      " 1   stillExists           2590 non-null   bool   \n",
      " 2   liked                 2590 non-null   int64  \n",
      " 3   disliked              2590 non-null   int64  \n",
      " 4   liked_churned_people  2590 non-null   int64  \n",
      " 5   vote                  2590 non-null   float64\n",
      " 6   Happiness             2590 non-null   float64\n",
      " 7   Activity              2590 non-null   int64  \n",
      " 8   likes                 2590 non-null   float64\n",
      " 9   dislikes              2590 non-null   float64\n",
      " 10  txt_len               2590 non-null   float64\n",
      "dtypes: bool(1), float64(5), int64(5)\n",
      "memory usage: 225.1 KB\n"
     ]
    }
   ],
   "source": [
    "d.info()"
   ]
  },
  {
   "cell_type": "code",
   "execution_count": 5,
   "id": "short-above",
   "metadata": {},
   "outputs": [],
   "source": [
    "d.stillExists = ~d.stillExists\n",
    "d.columns = ['numVotes', 'churned', 'liked', 'disliked', 'liked_churned_people',\n",
    "       'vote', 'HappinessEvolution', 'LifeSpan', 'positive_feedback_received', 'negative_feedback_received', 'comment_length']\n",
    "d = d[d.LifeSpan > 10]"
   ]
  },
  {
   "cell_type": "code",
   "execution_count": 6,
   "id": "parental-europe",
   "metadata": {},
   "outputs": [
    {
     "name": "stderr",
     "output_type": "stream",
     "text": [
      "<ipython-input-6-09ad60686e32>:1: SettingWithCopyWarning: \n",
      "A value is trying to be set on a copy of a slice from a DataFrame.\n",
      "Try using .loc[row_indexer,col_indexer] = value instead\n",
      "\n",
      "See the caveats in the documentation: https://pandas.pydata.org/pandas-docs/stable/user_guide/indexing.html#returning-a-view-versus-a-copy\n",
      "  d['CommitmentRate'] = (d.numVotes + d.liked + d.disliked) / d.LifeSpan\n",
      "<ipython-input-6-09ad60686e32>:2: SettingWithCopyWarning: \n",
      "A value is trying to be set on a copy of a slice from a DataFrame.\n",
      "Try using .loc[row_indexer,col_indexer] = value instead\n",
      "\n",
      "See the caveats in the documentation: https://pandas.pydata.org/pandas-docs/stable/user_guide/indexing.html#returning-a-view-versus-a-copy\n",
      "  d['CommitmentRate'] = d['CommitmentRate'].replace(np.inf, 0)\n"
     ]
    }
   ],
   "source": [
    "d['CommitmentRate'] = (d.numVotes + d.liked + d.disliked) / d.LifeSpan\n",
    "d['CommitmentRate'] = d['CommitmentRate'].replace(np.inf, 0)"
   ]
  },
  {
   "cell_type": "code",
   "execution_count": 7,
   "id": "voluntary-lobby",
   "metadata": {},
   "outputs": [
    {
     "name": "stderr",
     "output_type": "stream",
     "text": [
      "<ipython-input-7-34b49e6d6c60>:1: SettingWithCopyWarning: \n",
      "A value is trying to be set on a copy of a slice from a DataFrame.\n",
      "Try using .loc[row_indexer,col_indexer] = value instead\n",
      "\n",
      "See the caveats in the documentation: https://pandas.pydata.org/pandas-docs/stable/user_guide/indexing.html#returning-a-view-versus-a-copy\n",
      "  d['Activity_freq'] = d.numVotes / d.LifeSpan\n",
      "<ipython-input-7-34b49e6d6c60>:2: SettingWithCopyWarning: \n",
      "A value is trying to be set on a copy of a slice from a DataFrame.\n",
      "Try using .loc[row_indexer,col_indexer] = value instead\n",
      "\n",
      "See the caveats in the documentation: https://pandas.pydata.org/pandas-docs/stable/user_guide/indexing.html#returning-a-view-versus-a-copy\n",
      "  d['Activity_freq'] = d['Activity_freq'].replace(np.inf, 0)\n"
     ]
    }
   ],
   "source": [
    "d['Activity_freq'] = d.numVotes / d.LifeSpan\n",
    "d['Activity_freq'] = d['Activity_freq'].replace(np.inf, 0)"
   ]
  },
  {
   "cell_type": "markdown",
   "id": "acting-mumbai",
   "metadata": {},
   "source": [
    "# Dataframe Code book :\n",
    "- numVotes : number of votes \n",
    "- churned : if the employee has left his company\n",
    "- liked: number of comments liked by the user\n",
    "- disliked: number of comments disliked by the user\n",
    "- liked_churned_people : if the employee has liked a person who left the company\n",
    "- vote : average value of votes left by the user (1 : worst mood, 4 : best mood)\n",
    "- happinessEvolution : represent the evolution of user satisfaction from negative value (user sadder over time)to positive value (user happier over time), 0 == no evolution over time\n",
    "- LifeSpan : user lifespan\n",
    "- positive_feedback_received: average number of positive feedback received by comment.\n",
    "- negative_feedback_received: average number of negative feedback received by comment.\n",
    "- comment_length : average length of user's comments\n",
    "- CommitmentRate : The greatest the value is the more commited the user is CR = (nvote+liked+disliked) / Activity\n",
    "- Activity_freq : numVotes / user LifeSpan"
   ]
  },
  {
   "cell_type": "code",
   "execution_count": 8,
   "id": "hybrid-johns",
   "metadata": {},
   "outputs": [
    {
     "data": {
      "text/html": [
       "<div>\n",
       "<style scoped>\n",
       "    .dataframe tbody tr th:only-of-type {\n",
       "        vertical-align: middle;\n",
       "    }\n",
       "\n",
       "    .dataframe tbody tr th {\n",
       "        vertical-align: top;\n",
       "    }\n",
       "\n",
       "    .dataframe thead th {\n",
       "        text-align: right;\n",
       "    }\n",
       "</style>\n",
       "<table border=\"1\" class=\"dataframe\">\n",
       "  <thead>\n",
       "    <tr style=\"text-align: right;\">\n",
       "      <th></th>\n",
       "      <th>numVotes</th>\n",
       "      <th>liked</th>\n",
       "      <th>disliked</th>\n",
       "      <th>liked_churned_people</th>\n",
       "      <th>vote</th>\n",
       "      <th>HappinessEvolution</th>\n",
       "      <th>LifeSpan</th>\n",
       "      <th>positive_feedback_received</th>\n",
       "      <th>negative_feedback_received</th>\n",
       "      <th>comment_length</th>\n",
       "      <th>CommitmentRate</th>\n",
       "      <th>Activity_freq</th>\n",
       "    </tr>\n",
       "  </thead>\n",
       "  <tbody>\n",
       "    <tr>\n",
       "      <th>count</th>\n",
       "      <td>2440.000000</td>\n",
       "      <td>2440.000000</td>\n",
       "      <td>2440.000000</td>\n",
       "      <td>2440.000000</td>\n",
       "      <td>2440.000000</td>\n",
       "      <td>2440.000000</td>\n",
       "      <td>2440.000000</td>\n",
       "      <td>2440.000000</td>\n",
       "      <td>2440.000000</td>\n",
       "      <td>2440.000000</td>\n",
       "      <td>2440.000000</td>\n",
       "      <td>2440.000000</td>\n",
       "    </tr>\n",
       "    <tr>\n",
       "      <th>mean</th>\n",
       "      <td>74.295902</td>\n",
       "      <td>107.719262</td>\n",
       "      <td>20.000000</td>\n",
       "      <td>0.533607</td>\n",
       "      <td>2.915104</td>\n",
       "      <td>0.002624</td>\n",
       "      <td>194.130738</td>\n",
       "      <td>7.116654</td>\n",
       "      <td>1.246873</td>\n",
       "      <td>95.137726</td>\n",
       "      <td>1.249334</td>\n",
       "      <td>0.414775</td>\n",
       "    </tr>\n",
       "    <tr>\n",
       "      <th>std</th>\n",
       "      <td>83.573259</td>\n",
       "      <td>207.796683</td>\n",
       "      <td>54.480769</td>\n",
       "      <td>0.498972</td>\n",
       "      <td>0.647235</td>\n",
       "      <td>0.019896</td>\n",
       "      <td>153.347942</td>\n",
       "      <td>5.692372</td>\n",
       "      <td>1.830404</td>\n",
       "      <td>81.522800</td>\n",
       "      <td>1.581511</td>\n",
       "      <td>0.276145</td>\n",
       "    </tr>\n",
       "    <tr>\n",
       "      <th>min</th>\n",
       "      <td>0.000000</td>\n",
       "      <td>0.000000</td>\n",
       "      <td>0.000000</td>\n",
       "      <td>0.000000</td>\n",
       "      <td>1.000000</td>\n",
       "      <td>-0.115108</td>\n",
       "      <td>11.000000</td>\n",
       "      <td>0.000000</td>\n",
       "      <td>0.000000</td>\n",
       "      <td>0.750000</td>\n",
       "      <td>0.012346</td>\n",
       "      <td>0.000000</td>\n",
       "    </tr>\n",
       "    <tr>\n",
       "      <th>25%</th>\n",
       "      <td>17.000000</td>\n",
       "      <td>10.000000</td>\n",
       "      <td>1.000000</td>\n",
       "      <td>0.000000</td>\n",
       "      <td>2.564538</td>\n",
       "      <td>-0.001600</td>\n",
       "      <td>81.000000</td>\n",
       "      <td>2.839912</td>\n",
       "      <td>0.166667</td>\n",
       "      <td>43.833333</td>\n",
       "      <td>0.330370</td>\n",
       "      <td>0.172840</td>\n",
       "    </tr>\n",
       "    <tr>\n",
       "      <th>50%</th>\n",
       "      <td>44.000000</td>\n",
       "      <td>38.000000</td>\n",
       "      <td>4.000000</td>\n",
       "      <td>1.000000</td>\n",
       "      <td>3.000000</td>\n",
       "      <td>0.000384</td>\n",
       "      <td>171.000000</td>\n",
       "      <td>5.600000</td>\n",
       "      <td>0.701852</td>\n",
       "      <td>72.222500</td>\n",
       "      <td>0.757576</td>\n",
       "      <td>0.372556</td>\n",
       "    </tr>\n",
       "    <tr>\n",
       "      <th>75%</th>\n",
       "      <td>102.000000</td>\n",
       "      <td>113.000000</td>\n",
       "      <td>16.000000</td>\n",
       "      <td>1.000000</td>\n",
       "      <td>3.333333</td>\n",
       "      <td>0.003549</td>\n",
       "      <td>269.000000</td>\n",
       "      <td>10.000000</td>\n",
       "      <td>1.666667</td>\n",
       "      <td>118.212938</td>\n",
       "      <td>1.500000</td>\n",
       "      <td>0.615674</td>\n",
       "    </tr>\n",
       "    <tr>\n",
       "      <th>max</th>\n",
       "      <td>740.000000</td>\n",
       "      <td>3151.000000</td>\n",
       "      <td>891.000000</td>\n",
       "      <td>1.000000</td>\n",
       "      <td>4.000000</td>\n",
       "      <td>0.332168</td>\n",
       "      <td>770.000000</td>\n",
       "      <td>46.000000</td>\n",
       "      <td>33.000000</td>\n",
       "      <td>880.500000</td>\n",
       "      <td>16.304348</td>\n",
       "      <td>1.090909</td>\n",
       "    </tr>\n",
       "  </tbody>\n",
       "</table>\n",
       "</div>"
      ],
      "text/plain": [
       "          numVotes        liked     disliked  liked_churned_people  \\\n",
       "count  2440.000000  2440.000000  2440.000000           2440.000000   \n",
       "mean     74.295902   107.719262    20.000000              0.533607   \n",
       "std      83.573259   207.796683    54.480769              0.498972   \n",
       "min       0.000000     0.000000     0.000000              0.000000   \n",
       "25%      17.000000    10.000000     1.000000              0.000000   \n",
       "50%      44.000000    38.000000     4.000000              1.000000   \n",
       "75%     102.000000   113.000000    16.000000              1.000000   \n",
       "max     740.000000  3151.000000   891.000000              1.000000   \n",
       "\n",
       "              vote  HappinessEvolution     LifeSpan  \\\n",
       "count  2440.000000         2440.000000  2440.000000   \n",
       "mean      2.915104            0.002624   194.130738   \n",
       "std       0.647235            0.019896   153.347942   \n",
       "min       1.000000           -0.115108    11.000000   \n",
       "25%       2.564538           -0.001600    81.000000   \n",
       "50%       3.000000            0.000384   171.000000   \n",
       "75%       3.333333            0.003549   269.000000   \n",
       "max       4.000000            0.332168   770.000000   \n",
       "\n",
       "       positive_feedback_received  negative_feedback_received  comment_length  \\\n",
       "count                 2440.000000                 2440.000000     2440.000000   \n",
       "mean                     7.116654                    1.246873       95.137726   \n",
       "std                      5.692372                    1.830404       81.522800   \n",
       "min                      0.000000                    0.000000        0.750000   \n",
       "25%                      2.839912                    0.166667       43.833333   \n",
       "50%                      5.600000                    0.701852       72.222500   \n",
       "75%                     10.000000                    1.666667      118.212938   \n",
       "max                     46.000000                   33.000000      880.500000   \n",
       "\n",
       "       CommitmentRate  Activity_freq  \n",
       "count     2440.000000    2440.000000  \n",
       "mean         1.249334       0.414775  \n",
       "std          1.581511       0.276145  \n",
       "min          0.012346       0.000000  \n",
       "25%          0.330370       0.172840  \n",
       "50%          0.757576       0.372556  \n",
       "75%          1.500000       0.615674  \n",
       "max         16.304348       1.090909  "
      ]
     },
     "execution_count": 8,
     "metadata": {},
     "output_type": "execute_result"
    }
   ],
   "source": [
    "d.describe()"
   ]
  },
  {
   "cell_type": "code",
   "execution_count": 9,
   "id": "public-attitude",
   "metadata": {},
   "outputs": [
    {
     "data": {
      "text/plain": [
       "1302"
      ]
     },
     "execution_count": 9,
     "metadata": {},
     "output_type": "execute_result"
    }
   ],
   "source": [
    "d.liked_churned_people.sum()"
   ]
  },
  {
   "cell_type": "code",
   "execution_count": 10,
   "id": "baking-robertson",
   "metadata": {},
   "outputs": [
    {
     "data": {
      "image/png": "[encoded data removed]",
      "text/plain": [
       "<Figure size 1080x504 with 1 Axes>"
      ]
     },
     "metadata": {
      "needs_background": "light"
     },
     "output_type": "display_data"
    },
    {
     "data": {
      "image/png": "[encoded data removed]",
      "text/plain": [
       "<Figure size 1080x504 with 1 Axes>"
      ]
     },
     "metadata": {
      "needs_background": "light"
     },
     "output_type": "display_data"
    },
    {
     "data": {
      "image/png": "[encoded data removed]",
      "text/plain": [
       "<Figure size 1080x504 with 1 Axes>"
      ]
     },
     "metadata": {
      "needs_background": "light"
     },
     "output_type": "display_data"
    },
    {
     "data": {
      "image/png": "[encoded data removed]",
      "text/plain": [
       "<Figure size 1080x504 with 1 Axes>"
      ]
     },
     "metadata": {
      "needs_background": "light"
     },
     "output_type": "display_data"
    },
    {
     "data": {
      "image/png": "[encoded data removed]",
      "text/plain": [
       "<Figure size 1080x504 with 1 Axes>"
      ]
     },
     "metadata": {
      "needs_background": "light"
     },
     "output_type": "display_data"
    },
    {
     "data": {
      "image/png": "[encoded data removed]",
      "text/plain": [
       "<Figure size 1080x504 with 1 Axes>"
      ]
     },
     "metadata": {
      "needs_background": "light"
     },
     "output_type": "display_data"
    },
    {
     "data": {
      "image/png": "[encoded data removed]",
      "text/plain": [
       "<Figure size 1080x504 with 1 Axes>"
      ]
     },
     "metadata": {
      "needs_background": "light"
     },
     "output_type": "display_data"
    },
    {
     "data": {
      "image/png": "[encoded data removed]",
      "text/plain": [
       "<Figure size 1080x504 with 1 Axes>"
      ]
     },
     "metadata": {
      "needs_background": "light"
     },
     "output_type": "display_data"
    },
    {
     "data": {
      "image/png": "[encoded data removed]",
      "text/plain": [
       "<Figure size 1080x504 with 1 Axes>"
      ]
     },
     "metadata": {
      "needs_background": "light"
     },
     "output_type": "display_data"
    },
    {
     "data": {
      "image/png": "[encoded data removed]",
      "text/plain": [
       "<Figure size 1080x504 with 1 Axes>"
      ]
     },
     "metadata": {
      "needs_background": "light"
     },
     "output_type": "display_data"
    },
    {
     "data": {
      "image/png": "[encoded data removed]",
      "text/plain": [
       "<Figure size 1080x504 with 1 Axes>"
      ]
     },
     "metadata": {
      "needs_background": "light"
     },
     "output_type": "display_data"
    },
    {
     "data": {
      "image/png": "[encoded data removed]",
      "text/plain": [
       "<Figure size 1080x504 with 1 Axes>"
      ]
     },
     "metadata": {
      "needs_background": "light"
     },
     "output_type": "display_data"
    }
   ],
   "source": [
    "for col in d.columns:\n",
    "    if col != 'churned':\n",
    "        fig, ax = plt.subplots(figsize=(15,7))\n",
    "        sns.boxplot(data=d, x=\"churned\", y=col)\n",
    "        plt.show()"
   ]
  },
  {
   "cell_type": "code",
   "execution_count": 11,
   "id": "patient-wright",
   "metadata": {},
   "outputs": [
    {
     "data": {
      "text/html": [
       "<div>\n",
       "<style scoped>\n",
       "    .dataframe tbody tr th:only-of-type {\n",
       "        vertical-align: middle;\n",
       "    }\n",
       "\n",
       "    .dataframe tbody tr th {\n",
       "        vertical-align: top;\n",
       "    }\n",
       "\n",
       "    .dataframe thead th {\n",
       "        text-align: right;\n",
       "    }\n",
       "</style>\n",
       "<table border=\"1\" class=\"dataframe\">\n",
       "  <thead>\n",
       "    <tr style=\"text-align: right;\">\n",
       "      <th></th>\n",
       "      <th>numVotes</th>\n",
       "      <th>liked</th>\n",
       "      <th>disliked</th>\n",
       "      <th>liked_churned_people</th>\n",
       "      <th>vote</th>\n",
       "      <th>HappinessEvolution</th>\n",
       "      <th>LifeSpan</th>\n",
       "      <th>positive_feedback_received</th>\n",
       "      <th>negative_feedback_received</th>\n",
       "      <th>comment_length</th>\n",
       "      <th>CommitmentRate</th>\n",
       "      <th>Activity_freq</th>\n",
       "    </tr>\n",
       "    <tr>\n",
       "      <th>churned</th>\n",
       "      <th></th>\n",
       "      <th></th>\n",
       "      <th></th>\n",
       "      <th></th>\n",
       "      <th></th>\n",
       "      <th></th>\n",
       "      <th></th>\n",
       "      <th></th>\n",
       "      <th></th>\n",
       "      <th></th>\n",
       "      <th></th>\n",
       "      <th></th>\n",
       "    </tr>\n",
       "  </thead>\n",
       "  <tbody>\n",
       "    <tr>\n",
       "      <th>False</th>\n",
       "      <td>72.564502</td>\n",
       "      <td>104.489769</td>\n",
       "      <td>19.196619</td>\n",
       "      <td>0.500445</td>\n",
       "      <td>2.929207</td>\n",
       "      <td>0.002716</td>\n",
       "      <td>189.556050</td>\n",
       "      <td>7.149986</td>\n",
       "      <td>1.228544</td>\n",
       "      <td>95.199862</td>\n",
       "      <td>1.245221</td>\n",
       "      <td>0.416735</td>\n",
       "    </tr>\n",
       "    <tr>\n",
       "      <th>True</th>\n",
       "      <td>94.567708</td>\n",
       "      <td>145.531250</td>\n",
       "      <td>29.406250</td>\n",
       "      <td>0.921875</td>\n",
       "      <td>2.749979</td>\n",
       "      <td>0.001544</td>\n",
       "      <td>247.692708</td>\n",
       "      <td>6.726383</td>\n",
       "      <td>1.461471</td>\n",
       "      <td>94.410219</td>\n",
       "      <td>1.297489</td>\n",
       "      <td>0.391822</td>\n",
       "    </tr>\n",
       "  </tbody>\n",
       "</table>\n",
       "</div>"
      ],
      "text/plain": [
       "          numVotes       liked   disliked  liked_churned_people      vote  \\\n",
       "churned                                                                     \n",
       "False    72.564502  104.489769  19.196619              0.500445  2.929207   \n",
       "True     94.567708  145.531250  29.406250              0.921875  2.749979   \n",
       "\n",
       "         HappinessEvolution    LifeSpan  positive_feedback_received  \\\n",
       "churned                                                               \n",
       "False              0.002716  189.556050                    7.149986   \n",
       "True               0.001544  247.692708                    6.726383   \n",
       "\n",
       "         negative_feedback_received  comment_length  CommitmentRate  \\\n",
       "churned                                                               \n",
       "False                      1.228544       95.199862        1.245221   \n",
       "True                       1.461471       94.410219        1.297489   \n",
       "\n",
       "         Activity_freq  \n",
       "churned                 \n",
       "False         0.416735  \n",
       "True          0.391822  "
      ]
     },
     "execution_count": 11,
     "metadata": {},
     "output_type": "execute_result"
    }
   ],
   "source": [
    "d.groupby('churned').mean()"
   ]
  },
  {
   "cell_type": "code",
   "execution_count": 12,
   "id": "located-kenya",
   "metadata": {},
   "outputs": [],
   "source": [
    "#sns.pairplot(d)"
   ]
  },
  {
   "cell_type": "code",
   "execution_count": 13,
   "id": "structured-civilization",
   "metadata": {},
   "outputs": [
    {
     "data": {
      "text/plain": [
       "<AxesSubplot:>"
      ]
     },
     "execution_count": 13,
     "metadata": {},
     "output_type": "execute_result"
    },
    {
     "data": {
      "image/png": "[encoded data removed]",
      "text/plain": [
       "<Figure size 792x648 with 2 Axes>"
      ]
     },
     "metadata": {
      "needs_background": "light"
     },
     "output_type": "display_data"
    }
   ],
   "source": [
    "# Compute the correlation matrix\n",
    "corr = d.corr()\n",
    "\n",
    "# Generate a mask for the upper triangle\n",
    "mask = np.triu(np.ones_like(corr, dtype=bool))\n",
    "\n",
    "# Set up the matplotlib figure\n",
    "f, ax = plt.subplots(figsize=(11, 9))\n",
    "\n",
    "# Generate a custom diverging colormap\n",
    "cmap = sns.diverging_palette(230, 20, as_cmap=True)\n",
    "\n",
    "# Draw the heatmap with the mask and correct aspect ratio\n",
    "sns.heatmap(corr, mask=mask, cmap=cmap, vmax=.3, center=0,\n",
    "            square=True, linewidths=.5, cbar_kws={\"shrink\": .5}, annot=True)"
   ]
  },
  {
   "cell_type": "code",
   "execution_count": 14,
   "id": "respective-gender",
   "metadata": {},
   "outputs": [],
   "source": [
    "X = d.drop(columns=['churned'])\n",
    "y = d[['churned']]\n",
    "\n",
    "# Your code here:\n",
    "X_train, X_test, y_train, y_test = train_test_split(X, y, train_size=.8, test_size=.2, random_state=42)\n",
    "y_train = y_train.values.reshape(-1)"
   ]
  },
  {
   "cell_type": "code",
   "execution_count": 15,
   "id": "strong-questionnaire",
   "metadata": {},
   "outputs": [
    {
     "data": {
      "text/plain": [
       "0.9226434426229508"
      ]
     },
     "execution_count": 15,
     "metadata": {},
     "output_type": "execute_result"
    }
   ],
   "source": [
    "from sklearn.linear_model import LogisticRegressionCV\n",
    "clf = LogisticRegressionCV(cv=10,solver='newton-cg').fit(X_train, y_train)\n",
    "score = clf.score(X_train, y_train)\n",
    "score"
   ]
  },
  {
   "cell_type": "code",
   "execution_count": 118,
   "id": "married-audience",
   "metadata": {},
   "outputs": [
    {
     "data": {
      "text/plain": [
       "0.8847357404500261"
      ]
     },
     "execution_count": 118,
     "metadata": {},
     "output_type": "execute_result"
    }
   ],
   "source": [
    "neigh = KNeighborsClassifier(n_neighbors=1)\n",
    "cross_val_score(neigh, X_train, y_train, cv=10, scoring='f1_micro').mean()"
   ]
  },
  {
   "cell_type": "code",
   "execution_count": 93,
   "id": "absent-prairie",
   "metadata": {},
   "outputs": [
    {
     "name": "stdout",
     "output_type": "stream",
     "text": [
      "Fitting 5 folds for each of 30 candidates, totalling 150 fits\n"
     ]
    },
    {
     "data": {
      "text/plain": [
       "GridSearchCV(estimator=KNeighborsClassifier(n_neighbors=1),\n",
       "             param_grid={'n_neighbors': [1, 2, 3, 4, 5, 6, 7, 8, 9, 10, 11, 12,\n",
       "                                         13, 14, 15, 16, 17, 18, 19, 20, 21, 22,\n",
       "                                         23, 24, 25, 26, 27, 28, 29, 30]},\n",
       "             return_train_score=True, scoring='f1_micro', verbose=1)"
      ]
     },
     "execution_count": 93,
     "metadata": {},
     "output_type": "execute_result"
    }
   ],
   "source": [
    "parameters = {'n_neighbors': list(range(1,31))}\n",
    "grid = GridSearchCV(neigh, parameters, verbose=1, return_train_score=True, scoring='f1_micro')\n",
    "grid.fit(X_train, y_train)"
   ]
  },
  {
   "cell_type": "code",
   "execution_count": 94,
   "id": "pacific-belize",
   "metadata": {},
   "outputs": [],
   "source": [
    "res = grid.cv_results_\n",
    "k = res['param_n_neighbors']\n",
    "train_score = res['mean_train_score']\n",
    "test_score = res['mean_test_score']"
   ]
  },
  {
   "cell_type": "code",
   "execution_count": 95,
   "id": "smooth-letter",
   "metadata": {},
   "outputs": [
    {
     "data": {
      "image/png": "[encoded data removed]",
      "text/plain": [
       "<Figure size 432x288 with 1 Axes>"
      ]
     },
     "metadata": {
      "needs_background": "light"
     },
     "output_type": "display_data"
    }
   ],
   "source": [
    "df_score = pd.DataFrame(dict(k=k, test=test_score, train=train_score))\n",
    "ax = df_score.plot(x='k', y='train', figsize=(6, 4))\n",
    "df_score.plot(x='k', y='test', ax=ax, grid=True)\n",
    "ax.set_title(\"Evolution de la performance sur\\nles bases d'apprentissage et de test\" +\n",
    "             \"\\nen fonction du nombre de voisins\")\n",
    "ax.set_ylabel(\"f1\");"
   ]
  },
  {
   "cell_type": "code",
   "execution_count": 97,
   "id": "aerial-antibody",
   "metadata": {},
   "outputs": [
    {
     "data": {
      "text/plain": [
       "array([[447,   0],\n",
       "       [ 41,   0]])"
      ]
     },
     "execution_count": 97,
     "metadata": {},
     "output_type": "execute_result"
    }
   ],
   "source": [
    "y_pred = grid.predict(X_test)\n",
    "confusion_matrix(y_test, y_pred)"
   ]
  },
  {
   "cell_type": "code",
   "execution_count": 99,
   "id": "formed-reverse",
   "metadata": {},
   "outputs": [],
   "source": [
    "neigh.fit(X_train, y_train)\n",
    "y_pred = neigh.predict(X_test)"
   ]
  },
  {
   "cell_type": "code",
   "execution_count": 100,
   "id": "noticed-apache",
   "metadata": {},
   "outputs": [
    {
     "data": {
      "text/plain": [
       "churned\n",
       "False      447\n",
       "True        41\n",
       "dtype: int64"
      ]
     },
     "execution_count": 100,
     "metadata": {},
     "output_type": "execute_result"
    }
   ],
   "source": [
    "y_test.value_counts()"
   ]
  },
  {
   "cell_type": "code",
   "execution_count": 101,
   "id": "black-radius",
   "metadata": {},
   "outputs": [
    {
     "data": {
      "text/plain": [
       "array([[422,  25],\n",
       "       [ 27,  14]])"
      ]
     },
     "execution_count": 101,
     "metadata": {},
     "output_type": "execute_result"
    }
   ],
   "source": [
    "confusion_matrix(y_test, y_pred)"
   ]
  },
  {
   "cell_type": "code",
   "execution_count": 75,
   "id": "frank-pride",
   "metadata": {},
   "outputs": [
    {
     "data": {
      "text/plain": [
       "0.8934426229508197"
      ]
     },
     "execution_count": 75,
     "metadata": {},
     "output_type": "execute_result"
    }
   ],
   "source": [
    "recall = recall_score(y_test, y_pred, average='micro')\n",
    "recall"
   ]
  },
  {
   "cell_type": "markdown",
   "id": "trying-politics",
   "metadata": {},
   "source": [
    "# The precision is the ratio tp / (tp + fp) \n",
    "## The best value is 1 and the worst value is 0."
   ]
  },
  {
   "cell_type": "code",
   "execution_count": 76,
   "id": "three-exhaust",
   "metadata": {},
   "outputs": [
    {
     "data": {
      "text/plain": [
       "0.8934426229508197"
      ]
     },
     "execution_count": 76,
     "metadata": {},
     "output_type": "execute_result"
    }
   ],
   "source": [
    "precision = precision_score(y_test, y_pred, average='micro')\n",
    "precision"
   ]
  },
  {
   "cell_type": "markdown",
   "id": "trained-registration",
   "metadata": {},
   "source": [
    "# The F1 score can be interpreted as a weighted average of the precision and recall, where an F1 score reaches its best value at 1 and worst score at 0. The relative contribution # of precision and recall to the F1 score are equal. The formula for the F1 score is:"
   ]
  },
  {
   "cell_type": "code",
   "execution_count": 77,
   "id": "bacterial-patient",
   "metadata": {},
   "outputs": [
    {
     "data": {
      "text/plain": [
       "0.8934426229508197"
      ]
     },
     "execution_count": 77,
     "metadata": {},
     "output_type": "execute_result"
    }
   ],
   "source": [
    "y_pred = neigh.predict(X_test)\n",
    "precision = precision_score(y_test, y_pred, average='micro')\n",
    "recall = recall_score(y_test, y_pred, average='micro')\n",
    "F1 = 2 * (precision * recall) / (precision + recall)\n",
    "F1"
   ]
  },
  {
   "cell_type": "code",
   "execution_count": 23,
   "id": "distant-mediterranean",
   "metadata": {},
   "outputs": [
    {
     "data": {
      "text/plain": [
       "churned\n",
       "False      447\n",
       "True        41\n",
       "dtype: int64"
      ]
     },
     "execution_count": 23,
     "metadata": {},
     "output_type": "execute_result"
    }
   ],
   "source": [
    "y_test.value_counts()"
   ]
  },
  {
   "cell_type": "code",
   "execution_count": 130,
   "id": "filled-pollution",
   "metadata": {},
   "outputs": [
    {
     "data": {
      "image/png": "[encoded data removed]",
      "text/plain": [
       "<Figure size 792x360 with 2 Axes>"
      ]
     },
     "metadata": {
      "needs_background": "light"
     },
     "output_type": "display_data"
    }
   ],
   "source": [
    "fig, [ax_roc, ax_det] = plt.subplots(1, 2, figsize=(11, 5))\n",
    "\n",
    "plot_roc_curve(grid, X_test, y_test, ax=ax_roc, name='name')\n",
    "plot_det_curve(grid, X_test, y_test, ax=ax_det, name=\"name\")\n",
    "\n",
    "\n",
    "ax_roc.set_title('Receiver Operating Characteristic (ROC) curves')\n",
    "ax_det.set_title('Detection Error Tradeoff (DET) curves')\n",
    "\n",
    "ax_roc.grid(linestyle='--')\n",
    "ax_det.grid(linestyle='--')\n",
    "\n",
    "plt.legend()\n",
    "plt.show()"
   ]
  },
  {
   "cell_type": "code",
   "execution_count": 33,
   "id": "improving-howard",
   "metadata": {},
   "outputs": [
    {
     "data": {
      "text/plain": [
       "0.9236680327868853"
      ]
     },
     "execution_count": 33,
     "metadata": {},
     "output_type": "execute_result"
    }
   ],
   "source": [
    "clf = make_pipeline(StandardScaler(), SVC(gamma='auto'))\n",
    "clf.fit(X_train, y_train)\n",
    "clf.score(X_train, y_train)"
   ]
  },
  {
   "cell_type": "code",
   "execution_count": 37,
   "id": "widespread-bibliography",
   "metadata": {},
   "outputs": [],
   "source": [
    "y_pred = clf.predict(X_test)"
   ]
  },
  {
   "cell_type": "code",
   "execution_count": 42,
   "id": "matched-mirror",
   "metadata": {},
   "outputs": [
    {
     "data": {
      "text/plain": [
       "0.9159836065573771"
      ]
     },
     "execution_count": 42,
     "metadata": {},
     "output_type": "execute_result"
    }
   ],
   "source": [
    "#y_pred = clf.predict(X_test)\n",
    "precision = precision_score(y_test, y_pred, average='micro')\n",
    "recall = recall_score(y_test, y_pred, average='micro')\n",
    "F1 = 2 * (precision * recall) / (precision + recall)\n",
    "F1"
   ]
  },
  {
   "cell_type": "code",
   "execution_count": 27,
   "id": "accessory-detective",
   "metadata": {},
   "outputs": [
    {
     "data": {
      "text/plain": [
       "array([[447,   0],\n",
       "       [ 41,   0]])"
      ]
     },
     "execution_count": 27,
     "metadata": {},
     "output_type": "execute_result"
    }
   ],
   "source": [
    "confusion_matrix(y_test, y_pred)"
   ]
  },
  {
   "cell_type": "code",
   "execution_count": 28,
   "id": "aerial-precipitation",
   "metadata": {},
   "outputs": [
    {
     "data": {
      "text/plain": [
       "churned\n",
       "False      447\n",
       "True        41\n",
       "dtype: int64"
      ]
     },
     "execution_count": 28,
     "metadata": {},
     "output_type": "execute_result"
    }
   ],
   "source": [
    "y_test.value_counts()"
   ]
  },
  {
   "cell_type": "code",
   "execution_count": 29,
   "id": "cutting-morgan",
   "metadata": {},
   "outputs": [
    {
     "data": {
      "text/plain": [
       "(array([False]), array([488]))"
      ]
     },
     "execution_count": 29,
     "metadata": {},
     "output_type": "execute_result"
    }
   ],
   "source": [
    "np.unique(y_pred, return_counts=True)"
   ]
  },
  {
   "cell_type": "markdown",
   "id": "equipped-procedure",
   "metadata": {},
   "source": [
    "## The recall is the ratio tp / (tp + fn) where tp is the number of true positives and fn the number of false negatives. The recall is intuitively the ability of the classifier to find all the positive samples.\n",
    "\n",
    "## The best value is 1 and the worst value is 0."
   ]
  },
  {
   "cell_type": "code",
   "execution_count": 119,
   "id": "undefined-basis",
   "metadata": {},
   "outputs": [
    {
     "data": {
      "text/plain": [
       "0.930327868852459"
      ]
     },
     "execution_count": 119,
     "metadata": {},
     "output_type": "execute_result"
    }
   ],
   "source": [
    "recall_score(y_test, y_pred, average='micro')"
   ]
  },
  {
   "cell_type": "code",
   "execution_count": 132,
   "id": "revised-allah",
   "metadata": {},
   "outputs": [
    {
     "data": {
      "image/png": "[encoded data removed]",
      "text/plain": [
       "<Figure size 792x360 with 2 Axes>"
      ]
     },
     "metadata": {
      "needs_background": "light"
     },
     "output_type": "display_data"
    }
   ],
   "source": [
    "\n",
    "fig, [ax_roc, ax_det] = plt.subplots(1, 2, figsize=(11, 5))\n",
    "\n",
    "plot_roc_curve(grid_rfc, X_test, y_test, ax=ax_roc, name='name')\n",
    "plot_det_curve(grid_rfc, X_test, y_test, ax=ax_det, name=\"name\")\n",
    "\n",
    "\n",
    "ax_roc.set_title('Receiver Operating Characteristic (ROC) curves')\n",
    "ax_det.set_title('Detection Error Tradeoff (DET) curves')\n",
    "\n",
    "ax_roc.grid(linestyle='--')\n",
    "ax_det.grid(linestyle='--')\n",
    "\n",
    "plt.legend()\n",
    "plt.show()"
   ]
  },
  {
   "cell_type": "code",
   "execution_count": 122,
   "id": "raising-mapping",
   "metadata": {},
   "outputs": [
    {
     "data": {
      "text/plain": [
       "0.9231580324437468"
      ]
     },
     "execution_count": 122,
     "metadata": {},
     "output_type": "execute_result"
    }
   ],
   "source": [
    "\n",
    "kernel = 1.0 * RBF(1.0)\n",
    "gpc = GaussianProcessClassifier(kernel=kernel, random_state=0)\n",
    "cross_val_score(gpc, X_train, y_train, cv=10, scoring='f1_micro').mean()"
   ]
  },
  {
   "cell_type": "code",
   "execution_count": null,
   "id": "homeless-inspector",
   "metadata": {},
   "outputs": [],
   "source": []
  },
  {
   "cell_type": "code",
   "execution_count": null,
   "id": "narrow-justice",
   "metadata": {},
   "outputs": [],
   "source": [
    "y_train.shape"
   ]
  },
  {
   "cell_type": "code",
   "execution_count": 123,
   "id": "exact-basic",
   "metadata": {},
   "outputs": [
    {
     "data": {
      "text/plain": [
       "0.8765306122448979"
      ]
     },
     "execution_count": 123,
     "metadata": {},
     "output_type": "execute_result"
    }
   ],
   "source": [
    "\n",
    "clf = DecisionTreeClassifier()\n",
    "cross_val_score(clf, X_train, y_train, cv=10, scoring='f1_micro').mean()"
   ]
  },
  {
   "cell_type": "code",
   "execution_count": null,
   "id": "noble-factor",
   "metadata": {},
   "outputs": [],
   "source": [
    "scl = StandardScaler()\n",
    "X_ = scl.fit_transform(X)\n",
    "pca = PCA()\n",
    "pca.fit(X_)"
   ]
  },
  {
   "cell_type": "code",
   "execution_count": null,
   "id": "center-month",
   "metadata": {},
   "outputs": [],
   "source": [
    "pca.explained_variance_ratio_"
   ]
  },
  {
   "cell_type": "code",
   "execution_count": 124,
   "id": "prostate-quantity",
   "metadata": {},
   "outputs": [
    {
     "data": {
      "text/plain": [
       "0.9349398220826792"
      ]
     },
     "execution_count": 124,
     "metadata": {},
     "output_type": "execute_result"
    }
   ],
   "source": []
  },
  {
   "cell_type": "code",
   "execution_count": null,
   "id": "loaded-summer",
   "metadata": {
    "tags": []
   },
   "outputs": [
    {
     "name": "stdout",
     "output_type": "stream",
     "text": [
      "Fitting 5 folds for each of 2 candidates, totalling 10 fits\n"
     ]
    }
   ],
   "source": [
    "clf = RandomForestClassifier(class_weight=\"balanced\", verbose=0, warm_start=False, criterion=\"entropy\", )\n",
    "#print(cross_val_score(clf, X_train, y_train, cv=10, scoring='f1_micro').mean())\n",
    "parameters = { \n",
    "    'n_estimators': [8000],\n",
    "    'max_features': ['sqrt', 'log2'],\n",
    "    'n_jobs':[-1]\n",
    "}\n",
    "grid_rfc = GridSearchCV(clf, parameters, verbose=2, return_train_score=True, scoring='f1_micro', n_jobs=-1,)\n",
    "grid_rfc.fit(X_train, y_train)"
   ]
  },
  {
   "cell_type": "code",
   "execution_count": null,
   "id": "graphic-therapist",
   "metadata": {},
   "outputs": [],
   "source": [
    "y_pred = grid_rfc.predict(X_test)\n",
    "confusion_matrix(y_test, y_pred)"
   ]
  },
  {
   "cell_type": "code",
   "execution_count": 187,
   "id": "behavioral-puppy",
   "metadata": {},
   "outputs": [
    {
     "name": "stdout",
     "output_type": "stream",
     "text": [
      "Fitting 5 folds for each of 1 candidates, totalling 5 fits\n"
     ]
    },
    {
     "name": "stderr",
     "output_type": "stream",
     "text": [
      "/home/osboxes/anaconda3/lib/python3.8/site-packages/sklearn/svm/_base.py:985: ConvergenceWarning: Liblinear failed to converge, increase the number of iterations.\n",
      "  warnings.warn(\"Liblinear failed to converge, increase \"\n"
     ]
    },
    {
     "data": {
      "text/plain": [
       "array([[441,   6],\n",
       "       [ 41,   0]])"
      ]
     },
     "execution_count": 187,
     "metadata": {},
     "output_type": "execute_result"
    }
   ],
   "source": [
    "clf = LinearSVC(tol=1e-3)\n",
    "parameters = { \n",
    "    'max_iter': [1000],\n",
    "\n",
    "}\n",
    "grid_lsvc = GridSearchCV(clf, parameters, verbose=2, return_train_score=True, scoring='f1_micro', n_jobs=-1,)\n",
    "grid_lsvc.fit(X_train, y_train)\n",
    "y_pred = grid_lsvc.predict(X_test)\n",
    "confusion_matrix(y_test, y_pred)"
   ]
  },
  {
   "cell_type": "code",
   "execution_count": 182,
   "id": "sealed-karaoke",
   "metadata": {},
   "outputs": [
    {
     "name": "stdout",
     "output_type": "stream",
     "text": [
      "Fitting 5 folds for each of 1 candidates, totalling 5 fits\n"
     ]
    },
    {
     "data": {
      "text/plain": [
       "array([[446,   1],\n",
       "       [ 32,   9]])"
      ]
     },
     "execution_count": 182,
     "metadata": {},
     "output_type": "execute_result"
    }
   ],
   "source": [
    "clf = GaussianNB()\n",
    "parameters = { \n",
    "    'var_smoothing': [1e-12],\n",
    "}\n",
    "grid_gnb = GridSearchCV(clf, parameters,verbose=2, return_train_score=True, scoring='f1_micro', n_jobs=-1,)\n",
    "grid_gnb.fit(X_train, y_train)\n",
    "y_pred = grid_rfc.predict(X_test)\n",
    "confusion_matrix(y_test, y_pred)"
   ]
  },
  {
   "cell_type": "code",
   "execution_count": 192,
   "id": "ceramic-depression",
   "metadata": {},
   "outputs": [
    {
     "name": "stdout",
     "output_type": "stream",
     "text": [
      "Fitting 5 folds for each of 2 candidates, totalling 10 fits\n"
     ]
    },
    {
     "data": {
      "text/plain": [
       "array([[446,   1],\n",
       "       [ 36,   5]])"
      ]
     },
     "execution_count": 192,
     "metadata": {},
     "output_type": "execute_result"
    }
   ],
   "source": [
    "clf = SVC()\n",
    "parameters = { \n",
    "    'kernel':['rbf','sigmoid'],\n",
    "    'gamma':[0.7],\n",
    "    'C':[1]\n",
    "}\n",
    "grid_svc = GridSearchCV(clf, parameters,verbose=2, return_train_score=True, scoring='f1_micro', n_jobs=-1,)\n",
    "grid_svc.fit(X_train, y_train)\n",
    "y_pred = grid_svc.predict(X_test)\n",
    "confusion_matrix(y_test, y_pred)"
   ]
  },
  {
   "cell_type": "code",
   "execution_count": 169,
   "id": "vocal-teddy",
   "metadata": {},
   "outputs": [
    {
     "name": "stdout",
     "output_type": "stream",
     "text": [
      "Fitting 5 folds for each of 2 candidates, totalling 10 fits\n"
     ]
    },
    {
     "data": {
      "text/plain": [
       "array([[444,   3],\n",
       "       [ 34,   7]])"
      ]
     },
     "execution_count": 169,
     "metadata": {},
     "output_type": "execute_result"
    }
   ],
   "source": [
    "clf = AdaBoostClassifier()\n",
    "parameters = { \n",
    "    'learning_rate': [1,2],\n",
    "}\n",
    "grid_abc = GridSearchCV(clf, parameters,verbose=2, return_train_score=True, scoring='f1_micro', n_jobs=-1,)\n",
    "grid_abc.fit(X_train, y_train)\n",
    "y_pred = grid_abc.predict(X_test)\n",
    "confusion_matrix(y_test, y_pred)"
   ]
  },
  {
   "cell_type": "code",
   "execution_count": 170,
   "id": "republican-belize",
   "metadata": {},
   "outputs": [
    {
     "name": "stdout",
     "output_type": "stream",
     "text": [
      "Fitting 5 folds for each of 2 candidates, totalling 10 fits\n"
     ]
    },
    {
     "data": {
      "text/plain": [
       "array([[445,   2],\n",
       "       [ 33,   8]])"
      ]
     },
     "execution_count": 170,
     "metadata": {},
     "output_type": "execute_result"
    }
   ],
   "source": [
    "from sklearn.ensemble import GradientBoostingClassifier\n",
    "\n",
    "clf = GradientBoostingClassifier()\n",
    "parameters = { \n",
    "    'learning_rate': [0.1,2],\n",
    "}\n",
    "grid_gbc = GridSearchCV(clf, parameters,verbose=2, return_train_score=True, scoring='f1_micro', n_jobs=-1,)\n",
    "grid_gbc.fit(X_train, y_train)\n",
    "y_pred = grid_gbc.predict(X_test)\n",
    "confusion_matrix(y_test, y_pred)"
   ]
  },
  {
   "cell_type": "code",
   "execution_count": 200,
   "id": "ultimate-plant",
   "metadata": {},
   "outputs": [
    {
     "name": "stdout",
     "output_type": "stream",
     "text": [
      "Fitting 5 folds for each of 6 candidates, totalling 30 fits\n"
     ]
    },
    {
     "name": "stderr",
     "output_type": "stream",
     "text": [
      "/home/osboxes/anaconda3/lib/python3.8/site-packages/sklearn/neural_network/_multilayer_perceptron.py:614: ConvergenceWarning: Stochastic Optimizer: Maximum iterations (200) reached and the optimization hasn't converged yet.\n",
      "  warnings.warn(\n"
     ]
    },
    {
     "data": {
      "text/plain": [
       "array([[447,   0],\n",
       "       [ 41,   0]])"
      ]
     },
     "execution_count": 200,
     "metadata": {},
     "output_type": "execute_result"
    }
   ],
   "source": [
    "from sklearn.neural_network import MLPClassifier\n",
    "\n",
    "clf = MLPClassifier()\n",
    "parameters = { \n",
    "    'solver':['lbfgs', 'sgd', 'adam'],\n",
    "    'alpha': [1, 10],\n",
    "    'learning_rate': ['adaptive']\n",
    "}\n",
    "grid_mlpc = GridSearchCV(clf, parameters,verbose=2, return_train_score=True, scoring='f1_micro', n_jobs=-1,)\n",
    "grid_mlpc.fit(X_train, y_train)\n",
    "y_pred = grid_mlpc.predict(X_test)\n",
    "confusion_matrix(y_test, y_pred)"
   ]
  },
  {
   "cell_type": "code",
   "execution_count": 110,
   "id": "temporal-undergraduate",
   "metadata": {},
   "outputs": [],
   "source": [
    "res = grid_rfc.cv_results_\n",
    "train_score = res['mean_train_score']\n",
    "test_score = res['mean_test_score']"
   ]
  },
  {
   "cell_type": "code",
   "execution_count": 113,
   "id": "alone-stamp",
   "metadata": {},
   "outputs": [
    {
     "data": {
      "text/plain": [
       "array([0.93391698, 0.93545282, 0.93442849, 0.93494   , 0.93494131,\n",
       "       0.93494131])"
      ]
     },
     "execution_count": 113,
     "metadata": {},
     "output_type": "execute_result"
    }
   ],
   "source": [
    "test_score"
   ]
  },
  {
   "cell_type": "code",
   "execution_count": 112,
   "id": "sustainable-agent",
   "metadata": {},
   "outputs": [
    {
     "data": {
      "image/png": "[encoded data removed]",
      "text/plain": [
       "<Figure size 432x288 with 1 Axes>"
      ]
     },
     "metadata": {
      "needs_background": "light"
     },
     "output_type": "display_data"
    }
   ],
   "source": [
    "df_score = pd.DataFrame(dict(test=test_score, train=train_score))\n",
    "ax = df_score.plot(y='train', figsize=(6, 4))\n",
    "df_score.plot(y='test', ax=ax, grid=True)\n",
    "ax.set_title(\"Evolution de la performance sur\\nles bases d'apprentissage et de test\" +\n",
    "             \"\\nen fonction du nombre de voisins\")\n",
    "ax.set_ylabel(\"f1\");"
   ]
  },
  {
   "cell_type": "code",
   "execution_count": 52,
   "id": "gentle-husband",
   "metadata": {},
   "outputs": [
    {
     "data": {
      "text/plain": [
       "0.930327868852459"
      ]
     },
     "execution_count": 52,
     "metadata": {},
     "output_type": "execute_result"
    }
   ],
   "source": [
    "clf.fit(X_train, y_train)\n",
    "y_pred = clf.predict(X_test)\n",
    "precision = precision_score(y_test, y_pred, average='micro')\n",
    "recall = recall_score(y_test, y_pred, average='micro')\n",
    "F1 = 2 * (precision * recall) / (precision + recall)\n",
    "F1"
   ]
  },
  {
   "cell_type": "code",
   "execution_count": 116,
   "id": "arctic-kruger",
   "metadata": {},
   "outputs": [
    {
     "data": {
      "text/plain": [
       "GridSearchCV(cv=5, estimator=RandomForestClassifier(),\n",
       "             param_grid={'max_features': ['auto', 'sqrt', 'log2'],\n",
       "                         'n_estimators': [200, 700]})"
      ]
     },
     "execution_count": 116,
     "metadata": {},
     "output_type": "execute_result"
    }
   ],
   "source": [
    "rfc = RandomForestClassifier() \n",
    "\n",
    "param_grid = { \n",
    "    'n_estimators': [200, 700],\n",
    "    'max_features': ['auto', 'sqrt', 'log2']\n",
    "}\n",
    "\n",
    "CV_rfc = GridSearchCV(estimator=rfc, param_grid=param_grid, cv= 5)\n",
    "CV_rfc.fit(X_train, y_train)"
   ]
  },
  {
   "cell_type": "code",
   "execution_count": 117,
   "id": "alpine-interval",
   "metadata": {},
   "outputs": [
    {
     "data": {
      "text/plain": [
       "{'mean_fit_time': array([0.76467824, 2.60786481, 0.81413708, 2.92647166, 0.76162028,\n",
       "        2.6706018 ]),\n",
       " 'std_fit_time': array([0.06661521, 0.14834808, 0.05360784, 0.29534981, 0.05301793,\n",
       "        0.13151461]),\n",
       " 'mean_score_time': array([0.03323174, 0.10348425, 0.03777575, 0.13050933, 0.03241243,\n",
       "        0.12092915]),\n",
       " 'std_score_time': array([0.00560727, 0.00861834, 0.00797691, 0.02201825, 0.00250071,\n",
       "        0.01729808]),\n",
       " 'param_max_features': masked_array(data=['auto', 'auto', 'sqrt', 'sqrt', 'log2', 'log2'],\n",
       "              mask=[False, False, False, False, False, False],\n",
       "        fill_value='?',\n",
       "             dtype=object),\n",
       " 'param_n_estimators': masked_array(data=[200, 700, 200, 700, 200, 700],\n",
       "              mask=[False, False, False, False, False, False],\n",
       "        fill_value='?',\n",
       "             dtype=object),\n",
       " 'params': [{'max_features': 'auto', 'n_estimators': 200},\n",
       "  {'max_features': 'auto', 'n_estimators': 700},\n",
       "  {'max_features': 'sqrt', 'n_estimators': 200},\n",
       "  {'max_features': 'sqrt', 'n_estimators': 700},\n",
       "  {'max_features': 'log2', 'n_estimators': 200},\n",
       "  {'max_features': 'log2', 'n_estimators': 700}],\n",
       " 'split0_test_score': array([0.93606138, 0.93094629, 0.93350384, 0.93350384, 0.93350384,\n",
       "        0.93350384]),\n",
       " 'split1_test_score': array([0.93350384, 0.93350384, 0.93350384, 0.93350384, 0.93350384,\n",
       "        0.93350384]),\n",
       " 'split2_test_score': array([0.93333333, 0.93333333, 0.93333333, 0.93333333, 0.93333333,\n",
       "        0.93333333]),\n",
       " 'split3_test_score': array([0.94102564, 0.94102564, 0.93846154, 0.94102564, 0.94102564,\n",
       "        0.94102564]),\n",
       " 'split4_test_score': array([0.93589744, 0.93333333, 0.93589744, 0.93333333, 0.93589744,\n",
       "        0.93589744]),\n",
       " 'mean_test_score': array([0.93596433, 0.93442849, 0.93494   , 0.93494   , 0.93545282,\n",
       "        0.93545282]),\n",
       " 'std_test_score': array([0.00277874, 0.00343225, 0.00200122, 0.00304378, 0.00294426,\n",
       "        0.00294426]),\n",
       " 'rank_test_score': array([1, 6, 4, 4, 2, 2], dtype=int32)}"
      ]
     },
     "execution_count": 117,
     "metadata": {},
     "output_type": "execute_result"
    }
   ],
   "source": [
    "CV_rfc.cv_results_"
   ]
  },
  {
   "cell_type": "code",
   "execution_count": 127,
   "id": "listed-bennett",
   "metadata": {},
   "outputs": [
    {
     "data": {
      "text/plain": [
       "0.9175222396650968"
      ]
     },
     "execution_count": 127,
     "metadata": {},
     "output_type": "execute_result"
    }
   ],
   "source": [
    "clf = AdaBoostClassifier()\n",
    "cross_val_score(clf, X_train, y_train, cv=10, scoring='f1_micro').mean()"
   ]
  },
  {
   "cell_type": "code",
   "execution_count": 128,
   "id": "innocent-destination",
   "metadata": {},
   "outputs": [
    {
     "data": {
      "text/plain": [
       "0.861156462585034"
      ]
     },
     "execution_count": 128,
     "metadata": {},
     "output_type": "execute_result"
    }
   ],
   "source": [
    "clf = GaussianNB()\n",
    "cross_val_score(clf, X_train, y_train, cv=10, scoring='f1_micro').mean()"
   ]
  },
  {
   "cell_type": "code",
   "execution_count": 129,
   "id": "rocky-marketplace",
   "metadata": {},
   "outputs": [
    {
     "data": {
      "text/plain": [
       "0.8795944531658819"
      ]
     },
     "execution_count": 129,
     "metadata": {},
     "output_type": "execute_result"
    }
   ],
   "source": [
    "clf = QuadraticDiscriminantAnalysis()\n",
    "cross_val_score(clf, X_train, y_train, cv=10, scoring='f1_micro').mean()"
   ]
  },
  {
   "cell_type": "code",
   "execution_count": null,
   "id": "cardiac-print",
   "metadata": {},
   "outputs": [],
   "source": []
  },
  {
   "cell_type": "code",
   "execution_count": null,
   "id": "floating-elevation",
   "metadata": {},
   "outputs": [],
   "source": []
  },
  {
   "cell_type": "code",
   "execution_count": null,
   "id": "silver-courage",
   "metadata": {},
   "outputs": [],
   "source": []
  },
  {
   "cell_type": "code",
   "execution_count": null,
   "id": "productive-perception",
   "metadata": {},
   "outputs": [],
   "source": []
  },
  {
   "cell_type": "code",
   "execution_count": null,
   "id": "significant-puppy",
   "metadata": {},
   "outputs": [],
   "source": []
  },
  {
   "cell_type": "code",
   "execution_count": null,
   "id": "chinese-disease",
   "metadata": {},
   "outputs": [],
   "source": []
  }
 ],
 "metadata": {
  "kernelspec": {
   "display_name": "Python 3",
   "language": "python",
   "name": "python3"
  },
  "language_info": {
   "codemirror_mode": {
    "name": "ipython",
    "version": 3
   },
   "file_extension": ".py",
   "mimetype": "text/x-python",
   "name": "python",
   "nbconvert_exporter": "python",
   "pygments_lexer": "ipython3",
   "version": "3.8.5"
  }
 },
 "nbformat": 4,
 "nbformat_minor": 5
}
